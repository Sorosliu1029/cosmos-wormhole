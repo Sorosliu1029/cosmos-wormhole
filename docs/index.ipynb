{
 "cells": [
  {
   "cell_type": "markdown",
   "id": "5238d07c-825b-4872-8725-2ea5ebf356b7",
   "metadata": {},
   "source": [
    "<img src=\"./logo.png\" alt=\"cosmos wormhole\" style=\"display: block; margin: auto; width: 30%\"/>"
   ]
  },
  {
   "cell_type": "markdown",
   "id": "c0f522a3-c9bd-47ee-9374-5fa3abb2613a",
   "metadata": {},
   "source": [
    "<div>\n",
    "    <h3 style=\"text-align: center;\">cosmos-wormhole</h3>\n",
    "    <p style=\"text-align: center;\"><a href=\"https://www.xiaoyuzhoufm.com/\" target=\"_blank\">小宇宙</a> API (Python Version)</p>\n",
    "    <p style=\"text-align: center;\">🐙 <a href=\"https://github.com/Sorosliu1029/cosmos-wormhole\" target=\"_blank\">GitHub: cosmos-wormhole</a> | 🐍 <a href=\"https://pypi.org/project/cosmos-wormhole/\" target=\"_blank\">PyPI: cosmos-wormhole</a></p>\n",
    "</div>"
   ]
  },
  {
   "cell_type": "markdown",
   "id": "ed835e43-c151-4fdc-869d-12dbfea5a363",
   "metadata": {},
   "source": [
    "#### 安装\n",
    "\n",
    "```sh\n",
    "pip install cosmos-wormhole\n",
    "```"
   ]
  },
  {
   "cell_type": "markdown",
   "id": "b948db8d-bd7e-4023-8ce8-a59ff80bb836",
   "metadata": {},
   "source": [
    "#### 用例"
   ]
  },
  {
   "cell_type": "code",
   "execution_count": 1,
   "id": "30f87287-0042-40dd-8c30-f1c370889fba",
   "metadata": {},
   "outputs": [],
   "source": [
    "from cosmos_wormhole import Client"
   ]
  },
  {
   "cell_type": "code",
   "execution_count": 3,
   "id": "d24b3404-4466-4014-aaab-164d11380375",
   "metadata": {},
   "outputs": [
    {
     "ename": "OSError",
     "evalue": "Not a tty",
     "output_type": "error",
     "traceback": [
      "\u001b[31m---------------------------------------------------------------------------\u001b[39m",
      "\u001b[31mOSError\u001b[39m                                   Traceback (most recent call last)",
      "\u001b[36mCell\u001b[39m\u001b[36m \u001b[39m\u001b[32mIn[3]\u001b[39m\u001b[32m, line 2\u001b[39m\n\u001b[32m      1\u001b[39m c = Client()\n\u001b[32m----> \u001b[39m\u001b[32m2\u001b[39m \u001b[38;5;28;01mawait\u001b[39;00m c.login()\n",
      "\u001b[36mFile \u001b[39m\u001b[32m~/Desktop/cosmos-wormhole/src/cosmos_wormhole/client.py:89\u001b[39m, in \u001b[36mClient.login\u001b[39m\u001b[34m(self)\u001b[39m\n\u001b[32m     82\u001b[39m headers = \u001b[38;5;28mself\u001b[39m.token_manager.get_token()\n\u001b[32m     84\u001b[39m \u001b[38;5;28;01mif\u001b[39;00m (\n\u001b[32m     85\u001b[39m     \u001b[38;5;129;01mnot\u001b[39;00m headers\n\u001b[32m     86\u001b[39m     \u001b[38;5;129;01mor\u001b[39;00m \u001b[38;5;129;01mnot\u001b[39;00m headers.get(Token.access_key)\n\u001b[32m     87\u001b[39m     \u001b[38;5;129;01mor\u001b[39;00m \u001b[38;5;129;01mnot\u001b[39;00m headers.get(Token.refresh_key)\n\u001b[32m     88\u001b[39m ):  \u001b[38;5;66;03m# first time or no token stored or token invalid, try to login\u001b[39;00m\n\u001b[32m---> \u001b[39m\u001b[32m89\u001b[39m     access_token, refresh_token = \u001b[38;5;28;01mawait\u001b[39;00m Login().login()\n\u001b[32m     90\u001b[39m     \u001b[38;5;28mself\u001b[39m._update_token(access_token, refresh_token)\n\u001b[32m     91\u001b[39m \u001b[38;5;28;01melse\u001b[39;00m:  \u001b[38;5;66;03m# refresh tokens in case of access token expired\u001b[39;00m\n",
      "\u001b[36mFile \u001b[39m\u001b[32m~/Desktop/cosmos-wormhole/src/cosmos_wormhole/endpoints/login.py:41\u001b[39m, in \u001b[36mLogin.login\u001b[39m\u001b[34m(self)\u001b[39m\n\u001b[32m     39\u001b[39m qr = qrcode.QRCode()\n\u001b[32m     40\u001b[39m qr.add_data(url)\n\u001b[32m---> \u001b[39m\u001b[32m41\u001b[39m \u001b[43mqr\u001b[49m\u001b[43m.\u001b[49m\u001b[43mprint_tty\u001b[49m\u001b[43m(\u001b[49m\u001b[43m)\u001b[49m\n\u001b[32m     43\u001b[39m headers = \u001b[38;5;28;01mawait\u001b[39;00m \u001b[38;5;28mself\u001b[39m._check_login()\n\u001b[32m     44\u001b[39m \u001b[38;5;28;01mwhile\u001b[39;00m headers \u001b[38;5;129;01mis\u001b[39;00m \u001b[38;5;28;01mNone\u001b[39;00m:\n",
      "\u001b[36mFile \u001b[39m\u001b[32m~/Desktop/cosmos-wormhole/.venv/lib/python3.13/site-packages/qrcode/main.py:268\u001b[39m, in \u001b[36mQRCode.print_tty\u001b[39m\u001b[34m(self, out)\u001b[39m\n\u001b[32m    265\u001b[39m     out = sys.stdout\n\u001b[32m    267\u001b[39m \u001b[38;5;28;01mif\u001b[39;00m \u001b[38;5;129;01mnot\u001b[39;00m out.isatty():\n\u001b[32m--> \u001b[39m\u001b[32m268\u001b[39m     \u001b[38;5;28;01mraise\u001b[39;00m \u001b[38;5;167;01mOSError\u001b[39;00m(\u001b[33m\"\u001b[39m\u001b[33mNot a tty\u001b[39m\u001b[33m\"\u001b[39m)\n\u001b[32m    270\u001b[39m \u001b[38;5;28;01mif\u001b[39;00m \u001b[38;5;28mself\u001b[39m.data_cache \u001b[38;5;129;01mis\u001b[39;00m \u001b[38;5;28;01mNone\u001b[39;00m:\n\u001b[32m    271\u001b[39m     \u001b[38;5;28mself\u001b[39m.make()\n",
      "\u001b[31mOSError\u001b[39m: Not a tty"
     ]
    }
   ],
   "source": [
    "c = Client()\n",
    "await c.login()"
   ]
  },
  {
   "cell_type": "code",
   "execution_count": null,
   "id": "2a23fdeb-8032-4347-b3bc-d7fb2cec1dbf",
   "metadata": {},
   "outputs": [],
   "source": [
    "async def main():\n",
    "    \n",
    "\n",
    "    print(\"1. Subscription:\")\n",
    "    pid = None\n",
    "    eid = None\n",
    "    podcast_uid = None\n",
    "    async for podcast in c.subscription.list():\n",
    "        print(podcast)\n",
    "        if podcast.title == \"史蒂夫说\":\n",
    "            pid = podcast.id\n",
    "            podcast_uid = podcast.podcasters[0].id if podcast.podcasters else None\n",
    "            async for episode in c.episode.list_by_podcast(podcast.id):\n",
    "                print(f\"\\t{episode}\")\n",
    "                eid = episode.id\n",
    "                async for comment in c.comment.list_by_episode(episode.id, \"HOT\"):\n",
    "                    print(f\"\\t\\t{comment}\")\n",
    "                    async for reply in c.reply.list_by_comment(comment.id, \"SMART\"):\n",
    "                        print(f\"\\t\\t\\t{reply}\")\n",
    "                    break\n",
    "                break\n",
    "            break\n",
    "\n",
    "    print(\"2. Podcaast/Episode get:\")\n",
    "    if pid:\n",
    "        podcast = await c.podcast.get(pid)\n",
    "        print(podcast)\n",
    "    if eid:\n",
    "        episode = await c.episode.get(eid)\n",
    "        print(episode)\n",
    "\n",
    "    print(\"3. Inbox:\")\n",
    "    cnt = 0\n",
    "    async for episode in c.inbox.list():\n",
    "        print(episode)\n",
    "        cnt += 1\n",
    "        if cnt >= 5:\n",
    "            break\n",
    "\n",
    "    print(\"4. Playlist:\")\n",
    "    cnt = 0\n",
    "    async for playlist in c.playlist.list():\n",
    "        print(playlist)\n",
    "        cnt += 1\n",
    "        if cnt >= 5:\n",
    "            break\n",
    "\n",
    "    print(\"5. Profile:\")\n",
    "    my_profile = await c.profile.get()\n",
    "    print(my_profile)\n",
    "\n",
    "    if podcast_uid:\n",
    "        print(\"5.1 Podcaster Profile:\")\n",
    "        podcaster = await c.profile.get(podcast_uid)\n",
    "        print(podcaster)\n",
    "\n",
    "    print(\"6. Followee:\")\n",
    "    cnt = 0\n",
    "    async for user in c.followee.list_following(my_profile.id):\n",
    "        print(user)\n",
    "        cnt += 1\n",
    "        if cnt >= 5:\n",
    "            break\n",
    "\n",
    "    print(\"7. Follower:\")\n",
    "    cnt = 0\n",
    "    async for user in c.follower.list_follower(my_profile.id):\n",
    "        print(user)\n",
    "        cnt += 1\n",
    "        if cnt >= 5:\n",
    "            break\n",
    "\n",
    "    print(\"8. History:\")\n",
    "    cnt = 0\n",
    "    async for episode in c.history.list():\n",
    "        print(episode)\n",
    "        cnt += 1\n",
    "        if cnt >= 5:\n",
    "            break\n",
    "\n",
    "    print(\"9. Favorited Episode:\")\n",
    "    cnt = 0\n",
    "    async for episode in c.favorited_episode.list():\n",
    "        print(episode)\n",
    "        cnt += 1\n",
    "        if cnt >= 5:\n",
    "            break\n",
    "\n",
    "    print(\"10. Favorited Comment:\")\n",
    "    cnt = 0\n",
    "    async for comment in c.favorited_comment.list():\n",
    "        print(comment)\n",
    "        cnt += 1\n",
    "        if cnt >= 5:\n",
    "            break\n",
    "\n",
    "    print(\"11. Podcast Search:\")\n",
    "    cnt = 0\n",
    "    async for podcast in c.podcast_search.search(\"即刻\"):\n",
    "        print(podcast)\n",
    "        cnt += 1\n",
    "        if cnt >= 5:\n",
    "            break\n",
    "\n",
    "    print(\"12. Episode Search:\")\n",
    "    cnt = 0\n",
    "    async for episode in c.episode_search.search(\"小宇宙\"):\n",
    "        print(episode)\n",
    "        cnt += 1\n",
    "        if cnt >= 5:\n",
    "            break\n",
    "\n",
    "    print(\"13. User Search:\")\n",
    "    cnt = 0\n",
    "    async for user in c.user_search.search(\"播客\"):\n",
    "        print(user)\n",
    "        cnt += 1\n",
    "        if cnt >= 5:\n",
    "            break\n",
    "\n",
    "    await c.close()"
   ]
  }
 ],
 "metadata": {
  "kernelspec": {
   "display_name": "Python 3 (ipykernel)",
   "language": "python",
   "name": "python3"
  },
  "language_info": {
   "codemirror_mode": {
    "name": "ipython",
    "version": 3
   },
   "file_extension": ".py",
   "mimetype": "text/x-python",
   "name": "python",
   "nbconvert_exporter": "python",
   "pygments_lexer": "ipython3",
   "version": "3.13.2"
  }
 },
 "nbformat": 4,
 "nbformat_minor": 5
}
